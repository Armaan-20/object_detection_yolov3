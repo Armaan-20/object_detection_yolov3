{
  "nbformat": 4,
  "nbformat_minor": 0,
  "metadata": {
    "colab": {
      "name": "Copy of Object_detection_final.ipynb",
      "provenance": [],
      "collapsed_sections": [],
      "authorship_tag": "ABX9TyOMekcT5P9ANTy2FaUhAsOd",
      "include_colab_link": true
    },
    "kernelspec": {
      "name": "python3",
      "display_name": "Python 3"
    },
    "accelerator": "GPU"
  },
  "cells": [
    {
      "cell_type": "markdown",
      "metadata": {
        "id": "view-in-github",
        "colab_type": "text"
      },
      "source": [
        "<a href=\"https://colab.research.google.com/github/Armaan-20/object_detection_yolov3/blob/main/Copy_of_Object_detection_final.ipynb\" target=\"_parent\"><img src=\"https://colab.research.google.com/assets/colab-badge.svg\" alt=\"Open In Colab\"/></a>"
      ]
    },
    {
      "cell_type": "code",
      "metadata": {
        "id": "8NWncH4ub8QU"
      },
      "source": [
        "!pip install streamlit"
      ],
      "execution_count": null,
      "outputs": []
    },
    {
      "cell_type": "code",
      "metadata": {
        "id": "XDQeUfYDcXzq"
      },
      "source": [
        "!pip install pyngrok==4.1.1"
      ],
      "execution_count": null,
      "outputs": []
    },
    {
      "cell_type": "code",
      "metadata": {
        "id": "ptHjgVx-SAjO"
      },
      "source": [
        "!pip freeze > requirements.txt"
      ],
      "execution_count": null,
      "outputs": []
    },
    {
      "cell_type": "code",
      "metadata": {
        "id": "NSoP7pLRqWA7"
      },
      "source": [
        "!git clone https://github.com/AlexeyAB/darknet"
      ],
      "execution_count": null,
      "outputs": []
    },
    {
      "cell_type": "code",
      "metadata": {
        "id": "Emtpk8j4qjZY"
      },
      "source": [
        "%cd darknet\r\n",
        "!sed -i 's/OPENCV=0/OPENCV=1/' Makefile\r\n",
        "!sed -i 's/GPU=0/GPU=1/' Makefile\r\n",
        "!sed -i 's/CUDNN=0/CUDNN=1/' Makefile"
      ],
      "execution_count": null,
      "outputs": []
    },
    {
      "cell_type": "code",
      "metadata": {
        "id": "3rog5dljrCYA"
      },
      "source": [
        "!make"
      ],
      "execution_count": null,
      "outputs": []
    },
    {
      "cell_type": "code",
      "metadata": {
        "id": "L13hiyuerHMt"
      },
      "source": [
        "!wget https://pjreddie.com/media/files/yolov3.weights"
      ],
      "execution_count": null,
      "outputs": []
    },
    {
      "cell_type": "code",
      "metadata": {
        "id": "h0b8Ko_4rWS2"
      },
      "source": [
        "import cv2\r\n",
        "import numpy as np\r\n",
        "import urllib.request\r\n",
        "\r\n",
        "weight = '/content/darknet/yolov3.weights'\r\n",
        "cfg = '/content/darknet/cfg/yolov3.cfg'\r\n",
        "\r\n",
        "net = cv2.dnn.readNet(weight, cfg)\r\n",
        "\r\n",
        "classes = []\r\n",
        "with open(\"/content/darknet/data/coco.names\", \"r\") as f:\r\n",
        "    classes = f.read().splitlines()\r\n",
        "print(classes)"
      ],
      "execution_count": null,
      "outputs": []
    },
    {
      "cell_type": "code",
      "metadata": {
        "id": "WEX1WzXHm93_"
      },
      "source": [
        "def load_image(img):\r\n",
        "    im = Image.open(img)\r\n",
        "    return im"
      ],
      "execution_count": null,
      "outputs": []
    },
    {
      "cell_type": "code",
      "metadata": {
        "id": "Kp2v_hPHripc"
      },
      "source": [
        "from google.colab.patches import cv2_imshow\r\n",
        "from IPython.display import clear_output\r\n",
        "from PIL import Image\r\n",
        "font = cv2.FONT_HERSHEY_PLAIN\r\n",
        "colors = np.random.uniform(0, 255, size=(100, 3))"
      ],
      "execution_count": null,
      "outputs": []
    },
    {
      "cell_type": "code",
      "metadata": {
        "id": "60IyXuPVcfMa"
      },
      "source": [
        "%%writefile app.py\r\n",
        "import streamlit as st\r\n",
        "from google.colab.patches import cv2_imshow\r\n",
        "from IPython.display import clear_output\r\n",
        "from PIL import Image\r\n",
        "import cv2\r\n",
        "import numpy as np\r\n",
        "import urllib.request\r\n",
        "import tempfile\r\n",
        "import base64\r\n",
        "\r\n",
        "weight = '/content/darknet/yolov3.weights'\r\n",
        "cfg = '/content/darknet/cfg/yolov3.cfg'\r\n",
        "\r\n",
        "net = cv2.dnn.readNet(weight, cfg)\r\n",
        "\r\n",
        "classes = []\r\n",
        "with open(\"/content/darknet/data/coco.names\", \"r\") as f:\r\n",
        "    classes = f.read().splitlines()\r\n",
        "print(classes)\r\n",
        "def load_image(img):\r\n",
        "    im = Image.open(img, 'r')\r\n",
        "    return im\r\n",
        "font = cv2.FONT_HERSHEY_PLAIN\r\n",
        "colors = np.random.uniform(0, 255, size=(100, 3))\r\n",
        "PAGE_CONFIG = {\"page_title\":\"project.io\",\"page_icon\":\":smiley:\",\"layout\":\"centered\"}\r\n",
        "st.set_page_config(**PAGE_CONFIG)\r\n",
        "@st.cache(suppress_st_warning=True)\r\n",
        "def main():\r\n",
        "     st.title(\"OBJECT DETECTION APP\")\r\n",
        "     st.subheader(\"CREATED USING GOOGLE COLABORATORY AND STREAMLIT\")\r\n",
        "     menu = ['IMAGE','VIDEO']\r\n",
        "     choice = st.sidebar.selectbox('OPTIONS',menu)\r\n",
        "     if choice == 'IMAGE':\r\n",
        "         img = st.file_uploader('UPLOAD IMAGE', type = ['jpg', 'jpeg'])\r\n",
        "         try:\r\n",
        "             img = load_image(img)\r\n",
        "         except Exception:\r\n",
        "             st.warning('Select an Image')\r\n",
        "             st.stop()\r\n",
        "\r\n",
        "         img1 = img\r\n",
        "         st.write(\"Original Image\")\r\n",
        "         st.image(img1, width =750)\r\n",
        "         img1 = np.array(img1)\r\n",
        "         height, width, _ = img1.shape\r\n",
        "         blob = cv2.dnn.blobFromImage(img1, 1/255, (416, 416), (0,0,0), swapRB=True, crop=False)\r\n",
        "         net.setInput(blob)\r\n",
        "         output_layers_names = net.getUnconnectedOutLayersNames()\r\n",
        "         layerOutputs = net.forward(output_layers_names)\r\n",
        "\r\n",
        "         boxes = []\r\n",
        "         confidences = []\r\n",
        "         class_ids = []\r\n",
        "         for output in layerOutputs:\r\n",
        "             for detection in output:\r\n",
        "                 scores = detection[5:]\r\n",
        "                 class_id = np.argmax(scores)\r\n",
        "                 confidence = scores[class_id]\r\n",
        "                 if confidence > 0.2:\r\n",
        "                     center_x = int(detection[0]*width)\r\n",
        "                     center_y = int(detection[1]*height)\r\n",
        "                     w = int(detection[2]*width)\r\n",
        "                     h = int(detection[3]*height)\r\n",
        "                     x = int(center_x - w/2)\r\n",
        "                     y = int(center_y - h/2)\r\n",
        "                     boxes.append([x, y, w, h])\r\n",
        "                     confidences.append((float(confidence)))\r\n",
        "                     class_ids.append(class_id)\r\n",
        "         indexes = cv2.dnn.NMSBoxes(boxes, confidences, 0.2, 0.4)\r\n",
        "         if len(indexes)>0:\r\n",
        "             for i in indexes.flatten():\r\n",
        "                 x, y, w, h = boxes[i]\r\n",
        "                 label = str(classes[class_ids[i]])\r\n",
        "                 confidence = str(round(confidences[i],2))\r\n",
        "                 color = colors[i]\r\n",
        "                 cv2.rectangle(img1, (x,y), (x+w, y+h), color, 2)\r\n",
        "                 cv2.putText(img1, label + \" \" + confidence, (x, y+20), font, 2, (255,255,255), 2)\r\n",
        "         st.write(\"Final Image\")\r\n",
        "         st.image(img1, width = 750)\r\n",
        "         st.success('FINISHED')\r\n",
        "         st.balloons()\r\n",
        "         cv2.destroyAllWindows()\r\n",
        "     \r\n",
        "     else:\r\n",
        "         uploaded_file = st.file_uploader('UPLOAD VIDEO', type = ['mp4'])\r\n",
        "         try:\r\n",
        "             tfile = tempfile.NamedTemporaryFile(delete=False) \r\n",
        "             tfile.write(uploaded_file.read())\r\n",
        "         except Exception:\r\n",
        "             st.warning('Select a Video')\r\n",
        "             st.stop() \r\n",
        "         cap = cv2.VideoCapture(tfile.name)\r\n",
        "         stframe = st.empty()\r\n",
        "         while True:\r\n",
        "             _, img = cap.read()\r\n",
        "             img = cv2.cvtColor(img,cv2.COLOR_BGR2RGB)\r\n",
        "             height, width, _ = img.shape\r\n",
        "             blob = cv2.dnn.blobFromImage(img, 1/255, (416, 416), (0,0,0), swapRB=True, crop=False)\r\n",
        "             net.setInput(blob)\r\n",
        "             output_layers_names = net.getUnconnectedOutLayersNames()\r\n",
        "             layerOutputs = net.forward(output_layers_names)\r\n",
        "\r\n",
        "             boxes = []\r\n",
        "             confidences = []\r\n",
        "             class_ids = []\r\n",
        "             for output in layerOutputs:\r\n",
        "                 for detection in output:\r\n",
        "                     scores = detection[5:]\r\n",
        "                     class_id = np.argmax(scores)\r\n",
        "                     confidence = scores[class_id]\r\n",
        "                     if confidence > 0.2:\r\n",
        "                         center_x = int(detection[0]*width)\r\n",
        "                         center_y = int(detection[1]*height)\r\n",
        "                         w = int(detection[2]*width)\r\n",
        "                         h = int(detection[3]*height)\r\n",
        "                         x = int(center_x - w/2)\r\n",
        "                         y = int(center_y - h/2)\r\n",
        "                         boxes.append([x, y, w, h])\r\n",
        "                         confidences.append((float(confidence)))\r\n",
        "                         class_ids.append(class_id)\r\n",
        "             indexes = cv2.dnn.NMSBoxes(boxes, confidences, 0.2, 0.4)\r\n",
        "             if len(indexes)>0:\r\n",
        "                 for i in indexes.flatten():\r\n",
        "                     x, y, w, h = boxes[i]\r\n",
        "                     label = str(classes[class_ids[i]])\r\n",
        "                     confidence = str(round(confidences[i],2))\r\n",
        "                     color = colors[i]\r\n",
        "                     cv2.rectangle(img, (x,y), (x+w, y+h), color, 2)\r\n",
        "                     cv2.putText(img, label + \" \" + confidence, (x, y+20), font, 2, (255,255,255), 2)        \r\n",
        "             stframe.image(img, width = 750)\r\n",
        "             cv2.waitKey(0)\r\n",
        "             cv2.destroyAllWindows()   \r\n",
        "        \r\n",
        "if __name__ == '__main__':\r\n",
        "     main()\r\n"
      ],
      "execution_count": null,
      "outputs": []
    },
    {
      "cell_type": "code",
      "metadata": {
        "id": "oB0r0pW4ssKp"
      },
      "source": [
        "!ls"
      ],
      "execution_count": null,
      "outputs": []
    },
    {
      "cell_type": "code",
      "metadata": {
        "id": "i4s-EwzddXSl"
      },
      "source": [
        "!killall ngrok\r\n",
        "from pyngrok import ngrok"
      ],
      "execution_count": null,
      "outputs": []
    },
    {
      "cell_type": "code",
      "metadata": {
        "id": "Sr5YF-qUdaqC"
      },
      "source": [
        "!ngrok authtoken 1mqdt0VfRfvHZ0LmwrgFNUr3dg4_dBAssCUWbFyDS3vFym1S"
      ],
      "execution_count": null,
      "outputs": []
    },
    {
      "cell_type": "code",
      "metadata": {
        "id": "gzmb3ragdhmn"
      },
      "source": [
        "!ngrok"
      ],
      "execution_count": null,
      "outputs": []
    },
    {
      "cell_type": "code",
      "metadata": {
        "id": "BrZsMhA4dn19"
      },
      "source": [
        "!nohup streamlit run app.py &\r\n"
      ],
      "execution_count": null,
      "outputs": []
    },
    {
      "cell_type": "code",
      "metadata": {
        "id": "uQ3or6Vtdr0g"
      },
      "source": [
        "public_url = ngrok.connect(port='8501')\r\n",
        "public_url\r\n"
      ],
      "execution_count": null,
      "outputs": []
    },
    {
      "cell_type": "code",
      "metadata": {
        "id": "x4Ca6EnWfpHa"
      },
      "source": [
        "!pgrep streamlit"
      ],
      "execution_count": null,
      "outputs": []
    },
    {
      "cell_type": "code",
      "metadata": {
        "id": "43GpfPHqgGJB"
      },
      "source": [
        "ngrok.kill()"
      ],
      "execution_count": null,
      "outputs": []
    },
    {
      "cell_type": "code",
      "metadata": {
        "id": "o9jTlsGC0a6A"
      },
      "source": [
        "!killall ngrok"
      ],
      "execution_count": null,
      "outputs": []
    },
    {
      "cell_type": "code",
      "metadata": {
        "id": "TR3ftqLl2jMl"
      },
      "source": [
        ""
      ],
      "execution_count": null,
      "outputs": []
    },
    {
      "cell_type": "code",
      "metadata": {
        "id": "C87D_6U0wBCg"
      },
      "source": [
        ""
      ],
      "execution_count": null,
      "outputs": []
    },
    {
      "cell_type": "code",
      "metadata": {
        "id": "JIQPZlGXwPmL"
      },
      "source": [
        ""
      ],
      "execution_count": null,
      "outputs": []
    }
  ]
}